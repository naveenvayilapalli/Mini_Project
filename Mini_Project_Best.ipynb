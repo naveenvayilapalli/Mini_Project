{
  "nbformat": 4,
  "nbformat_minor": 0,
  "metadata": {
    "colab": {
      "name": "Untitled4.ipynb",
      "provenance": [],
      "collapsed_sections": [],
      "machine_shape": "hm",
      "include_colab_link": true
    },
    "kernelspec": {
      "name": "python3",
      "display_name": "Python 3"
    },
    "accelerator": "GPU"
  },
  "cells": [
    {
      "cell_type": "markdown",
      "metadata": {
        "id": "view-in-github",
        "colab_type": "text"
      },
      "source": [
        "<a href=\"https://colab.research.google.com/github/SasikiranJ/Mini_Project/blob/master/Mini_Project_Best.ipynb\" target=\"_parent\"><img src=\"https://colab.research.google.com/assets/colab-badge.svg\" alt=\"Open In Colab\"/></a>"
      ]
    },
    {
      "cell_type": "code",
      "metadata": {
        "id": "r4BegEQX_QJO",
        "colab_type": "code",
        "colab": {}
      },
      "source": [
        "import os\n",
        "from pydrive.auth import GoogleAuth\n",
        "from pydrive.drive import GoogleDrive\n",
        "from google.colab import auth\n",
        "from oauth2client.client import GoogleCredentials"
      ],
      "execution_count": 0,
      "outputs": []
    },
    {
      "cell_type": "code",
      "metadata": {
        "id": "MQXGE4R8Aq6l",
        "colab_type": "code",
        "colab": {}
      },
      "source": [
        "auth.authenticate_user()\n",
        "gauth = GoogleAuth()\n",
        "gauth.credentials = GoogleCredentials.get_application_default()\n",
        "drive = GoogleDrive(gauth)"
      ],
      "execution_count": 0,
      "outputs": []
    },
    {
      "cell_type": "code",
      "metadata": {
        "id": "1EdN0fj7VE8l",
        "colab_type": "code",
        "colab": {}
      },
      "source": [
        "data = drive.CreateFile({'id': '1IjPMJwqTnBqudAknbwpAn558uTvi0BmT'})\n",
        "train_bottle = drive.CreateFile({'id' : '1cbB6IA5vk8zoy1JgR23QLD88LvJk6Ps_'})\n",
        "test_bottle = drive.CreateFile({'id' : '1tSI9oO7MrkpcF7ZJA3JK5w4BHprNFJv1'})\n",
        "val_bottle = drive.CreateFile({'id' : '1BErplb3uBqEXyhf2VvJbMwrepsObGqQ7'})"
      ],
      "execution_count": 0,
      "outputs": []
    },
    {
      "cell_type": "code",
      "metadata": {
        "id": "C3sEzxJwxIQW",
        "colab_type": "code",
        "colab": {}
      },
      "source": [
        "data.GetContentFile('OCT.zip')\n",
        "train_bottle.GetContentFile('bottleneck_features_train.npy')\n",
        "test_bottle.GetContentFile('bottleneck_features_test.npy')\n",
        "val_bottle.GetContentFile('bottleneck_features_validation.npy')\n"
      ],
      "execution_count": 0,
      "outputs": []
    },
    {
      "cell_type": "code",
      "metadata": {
        "id": "79eK1K1MPYns",
        "colab_type": "code",
        "colab": {}
      },
      "source": [
        "#!unzip OCT.zip"
      ],
      "execution_count": 0,
      "outputs": []
    },
    {
      "cell_type": "code",
      "metadata": {
        "id": "-RfQNGAfV79j",
        "colab_type": "code",
        "outputId": "e09b49a3-6772-4457-c777-7b3cd9b0224d",
        "colab": {
          "base_uri": "https://localhost:8080/",
          "height": 34
        }
      },
      "source": [
        "import pandas as pd\n",
        "import numpy as np \n",
        "import itertools\n",
        "import keras\n",
        "from sklearn import metrics\n",
        "from sklearn.metrics import confusion_matrix\n",
        "from keras.preprocessing.image import ImageDataGenerator, img_to_array, load_img \n",
        "from keras.models import Sequential \n",
        "from keras import optimizers\n",
        "from keras.preprocessing import image\n",
        "from keras.layers import Dropout, Flatten, Dense  \n",
        "from keras import applications  \n",
        "from keras.utils.np_utils import to_categorical  \n",
        "import matplotlib.pyplot as plt \n",
        "import matplotlib.image as mpimg\n",
        "%matplotlib inline\n",
        "import math  \n",
        "import datetime\n",
        "import time"
      ],
      "execution_count": 8,
      "outputs": [
        {
          "output_type": "stream",
          "text": [
            "Using TensorFlow backend.\n"
          ],
          "name": "stderr"
        }
      ]
    },
    {
      "cell_type": "code",
      "metadata": {
        "id": "o4nzmuy0WECz",
        "colab_type": "code",
        "colab": {}
      },
      "source": [
        "#Default dimensions we found online\n",
        "img_width, img_height = 224,224  \n",
        "   \n",
        "#Create a bottleneck file\n",
        "top_model_weights_path = 'bottleneck_fc_model.h5' \n",
        "\n",
        "# loading up our datasets\n",
        "train_data_dir = 'OCT/train'  \n",
        "validation_data_dir = 'OCT/val'  \n",
        "test_data_dir = 'OCT/test'\n",
        "   \n",
        "# number of epochs to train top model  \n",
        "epochs = 7 #this has been changed after multiple model run  \n",
        "# batch size used by flow_from_directory and predict_generator  \n",
        "batch_size = 50"
      ],
      "execution_count": 0,
      "outputs": []
    },
    {
      "cell_type": "code",
      "metadata": {
        "id": "8ZiK26ETWNVC",
        "colab_type": "code",
        "outputId": "9d52c67e-262d-4ddc-f906-4749efbee107",
        "colab": {
          "base_uri": "https://localhost:8080/",
          "height": 280
        }
      },
      "source": [
        "vgg16 = applications.VGG16(include_top=False, weights='imagenet')"
      ],
      "execution_count": 10,
      "outputs": [
        {
          "output_type": "stream",
          "text": [
            "WARNING:tensorflow:From /usr/local/lib/python3.6/dist-packages/keras/backend/tensorflow_backend.py:66: The name tf.get_default_graph is deprecated. Please use tf.compat.v1.get_default_graph instead.\n",
            "\n",
            "WARNING:tensorflow:From /usr/local/lib/python3.6/dist-packages/keras/backend/tensorflow_backend.py:541: The name tf.placeholder is deprecated. Please use tf.compat.v1.placeholder instead.\n",
            "\n",
            "WARNING:tensorflow:From /usr/local/lib/python3.6/dist-packages/keras/backend/tensorflow_backend.py:4432: The name tf.random_uniform is deprecated. Please use tf.random.uniform instead.\n",
            "\n",
            "WARNING:tensorflow:From /usr/local/lib/python3.6/dist-packages/keras/backend/tensorflow_backend.py:4267: The name tf.nn.max_pool is deprecated. Please use tf.nn.max_pool2d instead.\n",
            "\n",
            "Downloading data from https://github.com/fchollet/deep-learning-models/releases/download/v0.1/vgg16_weights_tf_dim_ordering_tf_kernels_notop.h5\n",
            "58892288/58889256 [==============================] - 2s 0us/step\n",
            "WARNING:tensorflow:From /usr/local/lib/python3.6/dist-packages/keras/backend/tensorflow_backend.py:190: The name tf.get_default_session is deprecated. Please use tf.compat.v1.get_default_session instead.\n",
            "\n",
            "WARNING:tensorflow:From /usr/local/lib/python3.6/dist-packages/keras/backend/tensorflow_backend.py:197: The name tf.ConfigProto is deprecated. Please use tf.compat.v1.ConfigProto instead.\n",
            "\n"
          ],
          "name": "stdout"
        }
      ]
    },
    {
      "cell_type": "code",
      "metadata": {
        "id": "dQUyb_RUWRwI",
        "colab_type": "code",
        "colab": {}
      },
      "source": [
        "datagen = ImageDataGenerator(rescale=1. / 255)"
      ],
      "execution_count": 0,
      "outputs": []
    },
    {
      "cell_type": "code",
      "metadata": {
        "id": "GmcFLl-nWbNB",
        "colab_type": "code",
        "outputId": "44c945a4-aad8-4a69-d189-bdd81ba8557c",
        "colab": {
          "base_uri": "https://localhost:8080/",
          "height": 52
        }
      },
      "source": [
        "'''start = datetime.datetime.now()\n",
        "   \n",
        "generator = datagen.flow_from_directory(  \n",
        "     train_data_dir,  \n",
        "     target_size=(img_width, img_height),  \n",
        "     batch_size=batch_size,  \n",
        "     class_mode=None,  \n",
        "     shuffle=False)  \n",
        "   \n",
        "nb_train_samples = len(generator.filenames)  \n",
        "num_classes = len(generator.class_indices)  \n",
        "   \n",
        "predict_size_train = int(math.ceil(nb_train_samples / batch_size))  \n",
        "   \n",
        "bottleneck_features_train = vgg16.predict_generator(generator, predict_size_train)  \n",
        "   \n",
        "np.save('bottleneck_features_train.npy', bottleneck_features_train)\n",
        "end= datetime.datetime.now()\n",
        "elapsed= end-start\n",
        "print ('Time: ', elapsed)"
      ],
      "execution_count": 0,
      "outputs": [
        {
          "output_type": "stream",
          "text": [
            "Found 108277 images belonging to 4 classes.\n",
            "Time:  0:18:37.315127\n"
          ],
          "name": "stdout"
        }
      ]
    },
    {
      "cell_type": "code",
      "metadata": {
        "id": "qPZ_OCnEWheg",
        "colab_type": "code",
        "outputId": "6a1e1bd5-3c4a-4048-fa37-1733ec13db1e",
        "colab": {
          "base_uri": "https://localhost:8080/",
          "height": 52
        }
      },
      "source": [
        "'''start = datetime.datetime.now()\n",
        "generator = datagen.flow_from_directory(  \n",
        "     validation_data_dir,  \n",
        "     target_size=(img_width, img_height),  \n",
        "     batch_size=batch_size,  \n",
        "     class_mode=None,  \n",
        "     shuffle=False)  \n",
        "   \n",
        "nb_validation_samples = len(generator.filenames)  \n",
        "   \n",
        "predict_size_validation = int(math.ceil(nb_validation_samples / batch_size))  \n",
        "   \n",
        "bottleneck_features_validation = vgg16.predict_generator(  \n",
        "     generator, predict_size_validation)  \n",
        "   \n",
        "np.save('bottleneck_features_validation.npy', bottleneck_features_validation) \n",
        "end= datetime.datetime.now()\n",
        "elapsed= end-start\n",
        "print ('Time: ', elapsed)"
      ],
      "execution_count": 0,
      "outputs": [
        {
          "output_type": "stream",
          "text": [
            "Found 32 images belonging to 4 classes.\n",
            "Time:  0:00:03.437008\n"
          ],
          "name": "stdout"
        }
      ]
    },
    {
      "cell_type": "code",
      "metadata": {
        "id": "-N3gD-UMcAS-",
        "colab_type": "code",
        "outputId": "cd90d4c5-35bc-49cc-88b8-e2b011dbdcfd",
        "colab": {
          "base_uri": "https://localhost:8080/",
          "height": 52
        }
      },
      "source": [
        "'''start = datetime.datetime.now()\n",
        "generator = datagen.flow_from_directory(  \n",
        "     test_data_dir,  \n",
        "     target_size=(img_width, img_height),  \n",
        "     batch_size=batch_size,  \n",
        "     class_mode=None,  \n",
        "     shuffle=False)  \n",
        "   \n",
        "nb_test_samples = len(generator.filenames)  \n",
        "   \n",
        "predict_size_test = int(math.ceil(nb_test_samples / batch_size))  \n",
        "   \n",
        "bottleneck_features_test = vgg16.predict_generator(  \n",
        "     generator, predict_size_test)  \n",
        "   \n",
        "np.save('bottleneck_features_test.npy', bottleneck_features_test) \n",
        "end= datetime.datetime.now()\n",
        "elapsed= end-start\n",
        "print ('Time: ', elapsed)"
      ],
      "execution_count": 0,
      "outputs": [
        {
          "output_type": "stream",
          "text": [
            "Found 1000 images belonging to 4 classes.\n",
            "Time:  0:00:09.854932\n"
          ],
          "name": "stdout"
        }
      ]
    },
    {
      "cell_type": "code",
      "metadata": {
        "id": "jbRHknP9cRkP",
        "colab_type": "code",
        "outputId": "a33b6054-aef7-4413-da00-4433ac9e6d26",
        "colab": {
          "base_uri": "https://localhost:8080/",
          "height": 34
        }
      },
      "source": [
        "#training data\n",
        "generator_top = datagen.flow_from_directory(  \n",
        "         train_data_dir,  \n",
        "         target_size=(img_width, img_height),  \n",
        "         batch_size=batch_size,  \n",
        "         class_mode='categorical',  \n",
        "         shuffle=False)  \n",
        "   \n",
        "nb_train_samples = len(generator_top.filenames)  \n",
        "num_classes = len(generator_top.class_indices)  \n",
        "   \n",
        "# load the bottleneck features saved earlier  \n",
        "train_data = np.load('bottleneck_features_train.npy')  \n",
        "   \n",
        "# get the class lebels for the training data, in the original order  \n",
        "train_labels = generator_top.classes  \n",
        "   \n",
        "# convert the training labels to categorical vectors  \n",
        "train_labels = to_categorical(train_labels, num_classes=num_classes) "
      ],
      "execution_count": 12,
      "outputs": [
        {
          "output_type": "stream",
          "text": [
            "Found 108277 images belonging to 4 classes.\n"
          ],
          "name": "stdout"
        }
      ]
    },
    {
      "cell_type": "code",
      "metadata": {
        "id": "XDDj-wigd_Cd",
        "colab_type": "code",
        "outputId": "0693bc43-f43e-469f-a5f3-8d1c6f7316a2",
        "colab": {
          "base_uri": "https://localhost:8080/",
          "height": 34
        }
      },
      "source": [
        "#validation data\n",
        "generator_top = datagen.flow_from_directory(  \n",
        "         validation_data_dir,  \n",
        "         target_size=(img_width, img_height),  \n",
        "         batch_size=batch_size,  \n",
        "         class_mode=None,  \n",
        "         shuffle=False)  \n",
        "   \n",
        "nb_validation_samples = len(generator_top.filenames)  \n",
        "   \n",
        "validation_data = np.load('bottleneck_features_validation.npy')  \n",
        "   \n",
        "\n",
        "validation_labels = generator_top.classes  \n",
        "validation_labels = to_categorical(validation_labels, num_classes=num_classes) "
      ],
      "execution_count": 13,
      "outputs": [
        {
          "output_type": "stream",
          "text": [
            "Found 32 images belonging to 4 classes.\n"
          ],
          "name": "stdout"
        }
      ]
    },
    {
      "cell_type": "code",
      "metadata": {
        "id": "nEK3Xt1geD4M",
        "colab_type": "code",
        "outputId": "113872b9-ed0d-44db-bdf5-f951ee8100f7",
        "colab": {
          "base_uri": "https://localhost:8080/",
          "height": 34
        }
      },
      "source": [
        "#testing data\n",
        "generator_top = datagen.flow_from_directory(  \n",
        "         test_data_dir,  \n",
        "         target_size=(img_width, img_height),  \n",
        "         batch_size=batch_size,  \n",
        "         class_mode=None,  \n",
        "         shuffle=False)  \n",
        "   \n",
        "nb_test_samples = len(generator_top.filenames)  \n",
        "   \n",
        "test_data = np.load('bottleneck_features_test.npy')  \n",
        "   \n",
        "\n",
        "test_labels = generator_top.classes  \n",
        "test_labels = to_categorical(test_labels, num_classes=num_classes)"
      ],
      "execution_count": 14,
      "outputs": [
        {
          "output_type": "stream",
          "text": [
            "Found 1000 images belonging to 4 classes.\n"
          ],
          "name": "stdout"
        }
      ]
    },
    {
      "cell_type": "code",
      "metadata": {
        "id": "fnQOai4VeG1o",
        "colab_type": "code",
        "outputId": "7aba8127-ec08-4adc-820b-2708dc04f53c",
        "colab": {
          "base_uri": "https://localhost:8080/",
          "height": 853
        }
      },
      "source": [
        "#This is the best model we found. For additional models, check out I_notebook.ipynb\n",
        "start = datetime.datetime.now()\n",
        "model = Sequential()  \n",
        "model.add(Flatten(input_shape=train_data.shape[1:]))  \n",
        "model.add(Dense(100, activation=keras.layers.LeakyReLU(alpha=0.3)))  \n",
        "model.add(Dropout(0.5))  \n",
        "model.add(Dense(50, activation=keras.layers.LeakyReLU(alpha=0.3)))  \n",
        "model.add(Dropout(0.3)) \n",
        "model.add(Dense(num_classes, activation='softmax'))  \n",
        "\n",
        "model.compile(loss='categorical_crossentropy',\n",
        "              optimizer=optimizers.RMSprop(lr=1e-4),\n",
        "              metrics=['acc'])  \n",
        "\n",
        "history = model.fit(train_data, train_labels,  \n",
        "      epochs=20,\n",
        "      batch_size=batch_size,  \n",
        "      validation_data=(validation_data, validation_labels))  \n",
        "\n",
        "model.save_weights(top_model_weights_path)  \n",
        "\n",
        "(eval_loss, eval_accuracy) = model.evaluate(  \n",
        " validation_data, validation_labels, batch_size=batch_size, verbose=1)\n",
        "\n",
        "print(\"[INFO] accuracy: {:.2f}%\".format(eval_accuracy * 100))  \n",
        "print(\"[INFO] Loss: {}\".format(eval_loss))  \n",
        "end= datetime.datetime.now()\n",
        "elapsed= end-start\n",
        "print ('Time: ', elapsed)"
      ],
      "execution_count": 16,
      "outputs": [
        {
          "output_type": "stream",
          "text": [
            "/usr/local/lib/python3.6/dist-packages/keras/activations.py:235: UserWarning: Do not pass a layer instance (such as LeakyReLU) as the activation argument of another layer. Instead, advanced activation layers should be used just like any other layer in a model.\n",
            "  identifier=identifier.__class__.__name__))\n"
          ],
          "name": "stderr"
        },
        {
          "output_type": "stream",
          "text": [
            "Train on 108277 samples, validate on 32 samples\n",
            "Epoch 1/20\n",
            "108277/108277 [==============================] - 22s 202us/step - loss: 0.4507 - acc: 0.8462 - val_loss: 0.5727 - val_acc: 0.7500\n",
            "Epoch 2/20\n",
            "108277/108277 [==============================] - 21s 196us/step - loss: 0.3338 - acc: 0.8892 - val_loss: 0.6046 - val_acc: 0.7500\n",
            "Epoch 3/20\n",
            "108277/108277 [==============================] - 21s 195us/step - loss: 0.3063 - acc: 0.8999 - val_loss: 0.4501 - val_acc: 0.9062\n",
            "Epoch 4/20\n",
            "108277/108277 [==============================] - 21s 194us/step - loss: 0.2865 - acc: 0.9067 - val_loss: 0.4857 - val_acc: 0.7500\n",
            "Epoch 5/20\n",
            "108277/108277 [==============================] - 21s 197us/step - loss: 0.2716 - acc: 0.9124 - val_loss: 0.5095 - val_acc: 0.7188\n",
            "Epoch 6/20\n",
            "108277/108277 [==============================] - 21s 194us/step - loss: 0.2605 - acc: 0.9153 - val_loss: 0.5055 - val_acc: 0.7188\n",
            "Epoch 7/20\n",
            "108277/108277 [==============================] - 21s 194us/step - loss: 0.2520 - acc: 0.9178 - val_loss: 0.4963 - val_acc: 0.7500\n",
            "Epoch 8/20\n",
            "108277/108277 [==============================] - 21s 195us/step - loss: 0.2434 - acc: 0.9220 - val_loss: 0.4000 - val_acc: 0.7812\n",
            "Epoch 9/20\n",
            "108277/108277 [==============================] - 21s 195us/step - loss: 0.2369 - acc: 0.9246 - val_loss: 0.3989 - val_acc: 0.8750\n",
            "Epoch 10/20\n",
            "108277/108277 [==============================] - 21s 194us/step - loss: 0.2322 - acc: 0.9258 - val_loss: 0.3330 - val_acc: 0.8750\n",
            "Epoch 11/20\n",
            "108277/108277 [==============================] - 21s 195us/step - loss: 0.2265 - acc: 0.9271 - val_loss: 0.2019 - val_acc: 0.9375\n",
            "Epoch 12/20\n",
            "108277/108277 [==============================] - 21s 194us/step - loss: 0.2195 - acc: 0.9295 - val_loss: 0.3542 - val_acc: 0.9062\n",
            "Epoch 13/20\n",
            "108277/108277 [==============================] - 21s 190us/step - loss: 0.2165 - acc: 0.9308 - val_loss: 0.4225 - val_acc: 0.8125\n",
            "Epoch 14/20\n",
            "108277/108277 [==============================] - 21s 191us/step - loss: 0.2132 - acc: 0.9315 - val_loss: 0.4205 - val_acc: 0.8438\n",
            "Epoch 15/20\n",
            "108277/108277 [==============================] - 21s 190us/step - loss: 0.2088 - acc: 0.9327 - val_loss: 0.2036 - val_acc: 0.9375\n",
            "Epoch 16/20\n",
            "108277/108277 [==============================] - 21s 195us/step - loss: 0.2062 - acc: 0.9346 - val_loss: 0.2599 - val_acc: 0.9375\n",
            "Epoch 17/20\n",
            "108277/108277 [==============================] - 21s 190us/step - loss: 0.2035 - acc: 0.9347 - val_loss: 0.2452 - val_acc: 0.9062\n",
            "Epoch 18/20\n",
            "108277/108277 [==============================] - 21s 192us/step - loss: 0.2007 - acc: 0.9363 - val_loss: 0.4335 - val_acc: 0.7812\n",
            "Epoch 19/20\n",
            "108277/108277 [==============================] - 21s 191us/step - loss: 0.1979 - acc: 0.9364 - val_loss: 0.1899 - val_acc: 0.9375\n",
            "Epoch 20/20\n",
            "108277/108277 [==============================] - 21s 191us/step - loss: 0.1950 - acc: 0.9389 - val_loss: 0.1695 - val_acc: 0.9688\n",
            "32/32 [==============================] - 0s 126us/step\n",
            "[INFO] accuracy: 96.88%\n",
            "[INFO] Loss: 0.16949273645877838\n",
            "Time:  0:07:00.046928\n"
          ],
          "name": "stdout"
        }
      ]
    },
    {
      "cell_type": "code",
      "metadata": {
        "id": "t2d9cOKkeYQn",
        "colab_type": "code",
        "outputId": "98ecdcd0-3a29-4d12-b8a4-37ee4658257e",
        "colab": {
          "base_uri": "https://localhost:8080/",
          "height": 364
        }
      },
      "source": [
        "model.summary()"
      ],
      "execution_count": 17,
      "outputs": [
        {
          "output_type": "stream",
          "text": [
            "Model: \"sequential_2\"\n",
            "_________________________________________________________________\n",
            "Layer (type)                 Output Shape              Param #   \n",
            "=================================================================\n",
            "flatten_2 (Flatten)          (None, 25088)             0         \n",
            "_________________________________________________________________\n",
            "dense_4 (Dense)              (None, 100)               2508900   \n",
            "_________________________________________________________________\n",
            "dropout_3 (Dropout)          (None, 100)               0         \n",
            "_________________________________________________________________\n",
            "dense_5 (Dense)              (None, 50)                5050      \n",
            "_________________________________________________________________\n",
            "dropout_4 (Dropout)          (None, 50)                0         \n",
            "_________________________________________________________________\n",
            "dense_6 (Dense)              (None, 4)                 204       \n",
            "=================================================================\n",
            "Total params: 2,514,154\n",
            "Trainable params: 2,514,154\n",
            "Non-trainable params: 0\n",
            "_________________________________________________________________\n"
          ],
          "name": "stdout"
        }
      ]
    },
    {
      "cell_type": "code",
      "metadata": {
        "id": "xpqGp_Kme0Wm",
        "colab_type": "code",
        "outputId": "3334ebd9-0352-4447-9e45-cb6001aeaeee",
        "colab": {
          "base_uri": "https://localhost:8080/",
          "height": 573
        }
      },
      "source": [
        "acc = history.history['acc']\n",
        "val_acc = history.history['val_acc']\n",
        "loss = history.history['loss']\n",
        "val_loss = history.history['val_loss']\n",
        "epochs = range(len(acc))\n",
        "plt.plot(epochs, acc, 'r', label='Training acc')\n",
        "plt.plot(epochs, val_acc, 'b', label='Validation acc')\n",
        "plt.title('Training and validation accuracy')\n",
        "plt.ylabel('accuracy')  \n",
        "plt.xlabel('epoch')\n",
        "plt.legend()\n",
        "plt.figure()\n",
        "plt.plot(epochs, loss, 'r', label='Training loss')\n",
        "plt.plot(epochs, val_loss, 'b', label='Validation loss')\n",
        "plt.title('Training and validation loss')\n",
        "plt.ylabel('loss')  \n",
        "plt.xlabel('epoch')\n",
        "plt.legend()\n",
        "plt.show()"
      ],
      "execution_count": 18,
      "outputs": [
        {
          "output_type": "display_data",
          "data": {
            "image/png": "[encoded data removed]",
            "text/plain": [
              "<Figure size 432x288 with 1 Axes>"
            ]
          },
          "metadata": {
            "tags": []
          }
        },
        {
          "output_type": "display_data",
          "data": {
            "image/png": "[encoded data removed]",
            "text/plain": [
              "<Figure size 432x288 with 1 Axes>"
            ]
          },
          "metadata": {
            "tags": []
          }
        }
      ]
    },
    {
      "cell_type": "code",
      "metadata": {
        "id": "4gxieGbre8vC",
        "colab_type": "code",
        "outputId": "6f5ee7cc-0ef3-49f7-f1c9-42491e8d522f",
        "colab": {
          "base_uri": "https://localhost:8080/",
          "height": 52
        }
      },
      "source": [
        "model.evaluate(test_data, test_labels)"
      ],
      "execution_count": 19,
      "outputs": [
        {
          "output_type": "stream",
          "text": [
            "1000/1000 [==============================] - 0s 126us/step\n"
          ],
          "name": "stdout"
        },
        {
          "output_type": "execute_result",
          "data": {
            "text/plain": [
              "[0.23484714490547776, 0.921]"
            ]
          },
          "metadata": {
            "tags": []
          },
          "execution_count": 19
        }
      ]
    },
    {
      "cell_type": "code",
      "metadata": {
        "id": "aZMICu2lfGFS",
        "colab_type": "code",
        "colab": {}
      },
      "source": [
        "def read_image(file_path):\n",
        "    print(\"[INFO] loading and preprocessing image...\")  \n",
        "    image = load_img(file_path, target_size=(224, 224))  \n",
        "    image = img_to_array(image)  \n",
        "    image = np.expand_dims(image, axis=0)\n",
        "    image /= 255.  \n",
        "    return image"
      ],
      "execution_count": 0,
      "outputs": []
    },
    {
      "cell_type": "code",
      "metadata": {
        "id": "lNQA3VvjfVc5",
        "colab_type": "code",
        "colab": {}
      },
      "source": [
        "def test_single_image(path):\n",
        "    clas = ['CNV', 'DME', 'DRUSEN', 'NORMAL']\n",
        "    images = read_image(path)\n",
        "    time.sleep(.5)\n",
        "    bt_prediction = vgg16.predict(images)  \n",
        "    preds = model.predict_proba(bt_prediction)\n",
        "    for idx, clas, x in zip(range(0,4), clas , preds[0]):\n",
        "        print(\"ID: {}, Label: {} {}%\".format(idx, clas, round(x*100,2) ))\n",
        "    print('Final Decision:')\n",
        "    time.sleep(.5)\n",
        "    for x in range(3):\n",
        "        print('.'*(x+1))\n",
        "        time.sleep(.2)\n",
        "    class_predicted = model.predict_classes(bt_prediction)\n",
        "    class_dictionary = generator_top.class_indices  \n",
        "    inv_map = {v: k for k, v in class_dictionary.items()}  \n",
        "    print(\"ID: {}, Label: {}\".format(class_predicted[0], inv_map[class_predicted[0]]))  \n",
        "    return load_img(path)"
      ],
      "execution_count": 0,
      "outputs": []
    },
    {
      "cell_type": "code",
      "metadata": {
        "id": "O8bTtnGyfYpP",
        "colab_type": "code",
        "outputId": "66636df3-f6fb-4486-fc5e-1d58710c4248",
        "colab": {
          "base_uri": "https://localhost:8080/",
          "height": 34
        }
      },
      "source": [
        "!ls OCT/val"
      ],
      "execution_count": 0,
      "outputs": [
        {
          "output_type": "stream",
          "text": [
            "CNV  DME  DRUSEN  NORMAL\n"
          ],
          "name": "stdout"
        }
      ]
    },
    {
      "cell_type": "code",
      "metadata": {
        "id": "KdncIrmBf745",
        "colab_type": "code",
        "outputId": "af623609-e419-480d-b3c3-f3c3f70e1c65",
        "colab": {
          "base_uri": "https://localhost:8080/",
          "height": 1000
        }
      },
      "source": [
        "!ls OCT/test/NORMAL"
      ],
      "execution_count": 0,
      "outputs": [
        {
          "output_type": "stream",
          "text": [
            "NORMAL-100980-1.jpeg   NORMAL-3150544-1.jpeg  NORMAL-7057023-2.jpeg\n",
            "NORMAL-100980-2.jpeg   NORMAL-3150544-2.jpeg  NORMAL-7057023-3.jpeg\n",
            "NORMAL-107349-1.jpeg   NORMAL-3150544-3.jpeg  NORMAL-7057023-4.jpeg\n",
            "NORMAL-1256555-1.jpeg  NORMAL-3150544-4.jpeg  NORMAL-7057023-5.jpeg\n",
            "NORMAL-1256555-2.jpeg  NORMAL-3150544-5.jpeg  NORMAL-7057023-6.jpeg\n",
            "NORMAL-1256555-3.jpeg  NORMAL-32711-1.jpeg    NORMAL-7084900-1.jpeg\n",
            "NORMAL-13031-1.jpeg    NORMAL-36988-1.jpeg    NORMAL-7084900-2.jpeg\n",
            "NORMAL-13031-2.jpeg    NORMAL-3871-1.jpeg     NORMAL-7246911-1.jpeg\n",
            "NORMAL-13290-1.jpeg    NORMAL-397861-1.jpeg   NORMAL-7249847-1.jpeg\n",
            "NORMAL-1553966-1.jpeg  NORMAL-420724-1.jpeg   NORMAL-7362757-1.jpeg\n",
            "NORMAL-1560929-1.jpeg  NORMAL-4260811-1.jpeg  NORMAL-7366040-1.jpeg\n",
            "NORMAL-1567257-1.jpeg  NORMAL-4260811-2.jpeg  NORMAL-7366040-2.jpeg\n",
            "NORMAL-1569-1.jpeg     NORMAL-4265297-1.jpeg  NORMAL-7366040-3.jpeg\n",
            "NORMAL-1569-2.jpeg     NORMAL-4280024-1.jpeg  NORMAL-7379336-1.jpeg\n",
            "NORMAL-1574799-1.jpeg  NORMAL-4363964-1.jpeg  NORMAL-7379336-2.jpeg\n",
            "NORMAL-157635-1.jpeg   NORMAL-4376025-1.jpeg  NORMAL-7388507-1.jpeg\n",
            "NORMAL-1607883-1.jpeg  NORMAL-4376025-2.jpeg  NORMAL-7405074-1.jpeg\n",
            "NORMAL-1625211-1.jpeg  NORMAL-4376025-3.jpeg  NORMAL-7405074-2.jpeg\n",
            "NORMAL-1707146-1.jpeg  NORMAL-4380208-1.jpeg  NORMAL-7405074-3.jpeg\n",
            "NORMAL-18365-1.jpeg    NORMAL-4480087-1.jpeg  NORMAL-7459260-1.jpeg\n",
            "NORMAL-1839546-1.jpeg  NORMAL-4480087-2.jpeg  NORMAL-7489492-1.jpeg\n",
            "NORMAL-1839546-2.jpeg  NORMAL-4480087-3.jpeg  NORMAL-75834-1.jpeg\n",
            "NORMAL-1839847-1.jpeg  NORMAL-46150-1.jpeg    NORMAL-75834-2.jpeg\n",
            "NORMAL-1844016-1.jpeg  NORMAL-46187-1.jpeg    NORMAL-75834-3.jpeg\n",
            "NORMAL-1844016-2.jpeg  NORMAL-46393-1.jpeg    NORMAL-75834-4.jpeg\n",
            "NORMAL-1844016-3.jpeg  NORMAL-4680138-1.jpeg  NORMAL-75834-5.jpeg\n",
            "NORMAL-1850889-1.jpeg  NORMAL-4680138-2.jpeg  NORMAL-75834-6.jpeg\n",
            "NORMAL-1860988-1.jpeg  NORMAL-472313-1.jpeg   NORMAL-7616770-1.jpeg\n",
            "NORMAL-1860988-2.jpeg  NORMAL-472313-2.jpeg   NORMAL-7700726-1.jpeg\n",
            "NORMAL-1868593-1.jpeg  NORMAL-4756509-1.jpeg  NORMAL-7708488-1.jpeg\n",
            "NORMAL-1868593-2.jpeg  NORMAL-4760088-1.jpeg  NORMAL-7721435-1.jpeg\n",
            "NORMAL-1868593-3.jpeg  NORMAL-4760410-1.jpeg  NORMAL-7731079-1.jpeg\n",
            "NORMAL-19473-1.jpeg    NORMAL-47667-1.jpeg    NORMAL-7737658-1.jpeg\n",
            "NORMAL-1985956-1.jpeg  NORMAL-48457-1.jpeg    NORMAL-7744373-1.jpeg\n",
            "NORMAL-1987292-1.jpeg  NORMAL-4851546-1.jpeg  NORMAL-7765603-1.jpeg\n",
            "NORMAL-1990042-1.jpeg  NORMAL-49105-1.jpeg    NORMAL-7791908-1.jpeg\n",
            "NORMAL-1993564-1.jpeg  NORMAL-495738-1.jpeg   NORMAL-7806043-1.jpeg\n",
            "NORMAL-20141-1.jpeg    NORMAL-4981311-1.jpeg  NORMAL-7834768-1.jpeg\n",
            "NORMAL-2172702-1.jpeg  NORMAL-4981311-2.jpeg  NORMAL-7843895-1.jpeg\n",
            "NORMAL-2176791-1.jpeg  NORMAL-4984966-1.jpeg  NORMAL-7843895-2.jpeg\n",
            "NORMAL-2195284-1.jpeg  NORMAL-4985689-1.jpeg  NORMAL-7843895-3.jpeg\n",
            "NORMAL-2227707-1.jpeg  NORMAL-4991882-1.jpeg  NORMAL-7845876-1.jpeg\n",
            "NORMAL-2257322-1.jpeg  NORMAL-4998627-1.jpeg  NORMAL-78683-1.jpeg\n",
            "NORMAL-2337204-1.jpeg  NORMAL-5003292-1.jpeg  NORMAL-7892291-1.jpeg\n",
            "NORMAL-238945-1.jpeg   NORMAL-5003292-2.jpeg  NORMAL-7892291-2.jpeg\n",
            "NORMAL-2405707-1.jpeg  NORMAL-5034776-1.jpeg  NORMAL-7892291-3.jpeg\n",
            "NORMAL-2492693-1.jpeg  NORMAL-5075336-1.jpeg  NORMAL-7892291-4.jpeg\n",
            "NORMAL-2503367-1.jpeg  NORMAL-5083756-1.jpeg  NORMAL-7894097-1.jpeg\n",
            "NORMAL-2517469-1.jpeg  NORMAL-5279003-1.jpeg  NORMAL-7894097-2.jpeg\n",
            "NORMAL-2517469-2.jpeg  NORMAL-5348228-1.jpeg  NORMAL-7920519-1.jpeg\n",
            "NORMAL-2518378-1.jpeg  NORMAL-5359096-1.jpeg  NORMAL-7920519-2.jpeg\n",
            "NORMAL-2527724-1.jpeg  NORMAL-5364897-1.jpeg  NORMAL-7920519-3.jpeg\n",
            "NORMAL-2529919-1.jpeg  NORMAL-5367011-1.jpeg  NORMAL-7937893-1.jpeg\n",
            "NORMAL-2529919-2.jpeg  NORMAL-53995-1.jpeg    NORMAL-7956177-1.jpeg\n",
            "NORMAL-2529919-4.jpeg  NORMAL-5447393-1.jpeg  NORMAL-7956177-2.jpeg\n",
            "NORMAL-2547151-1.jpeg  NORMAL-5466413-1.jpeg  NORMAL-8009092-1.jpeg\n",
            "NORMAL-2622588-1.jpeg  NORMAL-5537195-1.jpeg  NORMAL-8011538-1.jpeg\n",
            "NORMAL-2640457-1.jpeg  NORMAL-5537195-2.jpeg  NORMAL-8122215-1.jpeg\n",
            "NORMAL-2640457-2.jpeg  NORMAL-5537195-3.jpeg  NORMAL-8122215-2.jpeg\n",
            "NORMAL-2642300-1.jpeg  NORMAL-55652-1.jpeg    NORMAL-8134883-1.jpeg\n",
            "NORMAL-2647147-1.jpeg  NORMAL-5586445-1.jpeg  NORMAL-8218814-1.jpeg\n",
            "NORMAL-2769620-1.jpeg  NORMAL-60827-1.jpeg    NORMAL-8218814-2.jpeg\n",
            "NORMAL-2769620-2.jpeg  NORMAL-64262-1.jpeg    NORMAL-8218814-3.jpeg\n",
            "NORMAL-2777942-1.jpeg  NORMAL-643307-1.jpeg   NORMAL-8218814-4.jpeg\n",
            "NORMAL-2786036-1.jpeg  NORMAL-6435945-1.jpeg  NORMAL-8218814-5.jpeg\n",
            "NORMAL-2789908-1.jpeg  NORMAL-6551103-1.jpeg  NORMAL-8218814-6.jpeg\n",
            "NORMAL-2814646-1.jpeg  NORMAL-6551103-2.jpeg  NORMAL-8287144-1.jpeg\n",
            "NORMAL-2814646-2.jpeg  NORMAL-65744-1.jpeg    NORMAL-8314525-1.jpeg\n",
            "NORMAL-2815901-1.jpeg  NORMAL-6661431-1.jpeg  NORMAL-8318461-1.jpeg\n",
            "NORMAL-2819870-1.jpeg  NORMAL-6969-1.jpeg     NORMAL-8612317-1.jpeg\n",
            "NORMAL-2834976-1.jpeg  NORMAL-6969-2.jpeg     NORMAL-8614915-1.jpeg\n",
            "NORMAL-2842658-1.jpeg  NORMAL-7022739-1.jpeg  NORMAL-8649218-1.jpeg\n",
            "NORMAL-2842991-1.jpeg  NORMAL-7023622-1.jpeg  NORMAL-8750828-1.jpeg\n",
            "NORMAL-2892455-1.jpeg  NORMAL-7023622-2.jpeg  NORMAL-8774641-1.jpeg\n",
            "NORMAL-2897385-1.jpeg  NORMAL-7033499-1.jpeg  NORMAL-8884516-1.jpeg\n",
            "NORMAL-2897385-2.jpeg  NORMAL-7033499-2.jpeg  NORMAL-8920214-1.jpeg\n",
            "NORMAL-3053221-1.jpeg  NORMAL-7033499-3.jpeg  NORMAL-8920214-2.jpeg\n",
            "NORMAL-3059495-1.jpeg  NORMAL-7033499-4.jpeg  NORMAL-8920214-3.jpeg\n",
            "NORMAL-3059495-2.jpeg  NORMAL-7040634-1.jpeg  NORMAL-9044287-1.jpeg\n",
            "NORMAL-3063933-1.jpeg  NORMAL-7040634-2.jpeg  NORMAL-9044287-2.jpeg\n",
            "NORMAL-3063933-2.jpeg  NORMAL-7040634-3.jpeg  NORMAL-92449-1.jpeg\n",
            "NORMAL-3068439-1.jpeg  NORMAL-7041893-1.jpeg  NORMAL-94019-1.jpeg\n",
            "NORMAL-3068439-2.jpeg  NORMAL-7041893-2.jpeg\n",
            "NORMAL-309669-1.jpeg   NORMAL-7057023-1.jpeg\n"
          ],
          "name": "stdout"
        }
      ]
    },
    {
      "cell_type": "code",
      "metadata": {
        "id": "C9b3-jrKf_iU",
        "colab_type": "code",
        "colab": {}
      },
      "source": [
        "path = \"OCT/test/NORMAL/NORMAL-7057023-1.jpeg\""
      ],
      "execution_count": 0,
      "outputs": []
    },
    {
      "cell_type": "code",
      "metadata": {
        "id": "xP9QMhIQgsDG",
        "colab_type": "code",
        "outputId": "174ccced-463b-43ae-aeb0-54bd1ba228ee",
        "colab": {
          "base_uri": "https://localhost:8080/",
          "height": 415
        }
      },
      "source": [
        "test_single_image(path)"
      ],
      "execution_count": 23,
      "outputs": [
        {
          "output_type": "stream",
          "text": [
            "[INFO] loading and preprocessing image...\n",
            "ID: 0, Label: CNV 0.38%\n",
            "ID: 1, Label: DME 0.25%\n",
            "ID: 2, Label: DRUSEN 2.8%\n",
            "ID: 3, Label: NORMAL 96.57%\n",
            "Final Decision:\n",
            ".\n",
            "..\n",
            "...\n",
            "ID: 3, Label: NORMAL\n"
          ],
          "name": "stdout"
        },
        {
          "output_type": "execute_result",
          "data": {
            "image/png": "[encoded data removed]",
            "text/plain": [
              "<PIL.Image.Image image mode=RGB size=224x224 at 0x7F52DF09ED68>"
            ]
          },
          "metadata": {
            "tags": []
          },
          "execution_count": 23
        }
      ]
    },
    {
      "cell_type": "code",
      "metadata": {
        "id": "scCL0T6ugwg2",
        "colab_type": "code",
        "outputId": "2658e4b7-0b3d-4852-c4d4-9c43b6d577b6",
        "colab": {
          "base_uri": "https://localhost:8080/",
          "height": 69
        }
      },
      "source": [
        "!ls"
      ],
      "execution_count": 0,
      "outputs": [
        {
          "output_type": "stream",
          "text": [
            "adc.json\t\t      bottleneck_features_train.npy\t  OCTC.zip\n",
            "bottleneck_fc_model.h5\t      bottleneck_features_validation.npy  sample_data\n",
            "bottleneck_features_test.npy  OCT\n"
          ],
          "name": "stdout"
        }
      ]
    },
    {
      "cell_type": "code",
      "metadata": {
        "id": "U5Mrotj_dMY4",
        "colab_type": "code",
        "colab": {}
      },
      "source": [
        ""
      ],
      "execution_count": 0,
      "outputs": []
    }
  ]
}