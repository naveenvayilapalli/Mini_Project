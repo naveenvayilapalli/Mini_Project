{
  "nbformat": 4,
  "nbformat_minor": 0,
  "metadata": {
    "colab": {
      "name": "Untitled4.ipynb",
      "version": "0.3.2",
      "provenance": [],
      "collapsed_sections": [],
      "machine_shape": "hm",
      "include_colab_link": true
    },
    "kernelspec": {
      "name": "python3",
      "display_name": "Python 3"
    },
    "accelerator": "GPU"
  },
  "cells": [
    {
      "cell_type": "markdown",
      "metadata": {
        "id": "view-in-github",
        "colab_type": "text"
      },
      "source": [
        "<a href=\"https://colab.research.google.com/github/SasikiranJ/Mini_Project/blob/master/Mini_project-code.ipynb\" target=\"_parent\"><img src=\"https://colab.research.google.com/assets/colab-badge.svg\" alt=\"Open In Colab\"/></a>"
      ]
    },
    {
      "cell_type": "code",
      "metadata": {
        "id": "r4BegEQX_QJO",
        "colab_type": "code",
        "colab": {}
      },
      "source": [
        "import os\n",
        "from pydrive.auth import GoogleAuth\n",
        "from pydrive.drive import GoogleDrive\n",
        "from google.colab import auth\n",
        "from oauth2client.client import GoogleCredentials"
      ],
      "execution_count": 0,
      "outputs": []
    },
    {
      "cell_type": "code",
      "metadata": {
        "id": "MQXGE4R8Aq6l",
        "colab_type": "code",
        "colab": {}
      },
      "source": [
        "auth.authenticate_user()\n",
        "gauth = GoogleAuth()\n",
        "gauth.credentials = GoogleCredentials.get_application_default()\n",
        "drive = GoogleDrive(gauth)"
      ],
      "execution_count": 0,
      "outputs": []
    },
    {
      "cell_type": "code",
      "metadata": {
        "id": "1EdN0fj7VE8l",
        "colab_type": "code",
        "colab": {}
      },
      "source": [
        "download = drive.CreateFile({'id': '1gkru3ybKvBy4Oe5ecUVgK-v2Ld0NXVgk'})"
      ],
      "execution_count": 0,
      "outputs": []
    },
    {
      "cell_type": "code",
      "metadata": {
        "id": "_KRhpPq8F66n",
        "colab_type": "code",
        "colab": {}
      },
      "source": [
        "download.GetContentFile('OCT.zip')"
      ],
      "execution_count": 0,
      "outputs": []
    },
    {
      "cell_type": "code",
      "metadata": {
        "id": "ranZvfpjtR7N",
        "colab_type": "code",
        "outputId": "eed49d8a-efef-4f98-f53f-051c03756d7a",
        "colab": {
          "base_uri": "https://localhost:8080/",
          "height": 34
        }
      },
      "source": [
        "!ls"
      ],
      "execution_count": 6,
      "outputs": [
        {
          "output_type": "stream",
          "text": [
            "adc.json  OCT.zip  sample_data\n"
          ],
          "name": "stdout"
        }
      ]
    },
    {
      "cell_type": "code",
      "metadata": {
        "id": "xMqL3VR_lzFc",
        "colab_type": "code",
        "colab": {}
      },
      "source": [
        "import os\n",
        "from PIL import Image\n",
        "import sys\n",
        "\n",
        "\n",
        "directory_list =  [\"OCT/train/DME\",\"OCT/train/DRUSEN\"]\n",
        "\n",
        "\n",
        "for directory in directory_list:\n",
        "\tfor file_name in os.listdir(directory):\n",
        "\t\tprint(\"processing %s\" % file_name)\n",
        "\t\timage = Image.open(os.path.join(directory, file_name))\n",
        "\t\tnewdim = (224,224)\n",
        "\t\toutput = image.resize(newdim,Image.ANTIALIAS)\n",
        "\t\toutput_file_name = os.path.join(directory, file_name)\n",
        "\t\toutput.save(output_file_name,\"JPEG\",quality = 90)\n",
        "\n",
        "print(\"ALL DONE\")\n",
        "\n"
      ],
      "execution_count": 0,
      "outputs": []
    },
    {
      "cell_type": "code",
      "metadata": {
        "id": "-RfQNGAfV79j",
        "colab_type": "code",
        "outputId": "6368301b-f357-4c61-88dd-c7681fc21e25",
        "colab": {
          "base_uri": "https://localhost:8080/",
          "height": 34
        }
      },
      "source": [
        "import pandas as pd\n",
        "import numpy as np \n",
        "import itertools\n",
        "import keras\n",
        "from sklearn import metrics\n",
        "from sklearn.metrics import confusion_matrix\n",
        "from keras.preprocessing.image import ImageDataGenerator, img_to_array, load_img \n",
        "from keras.models import Sequential \n",
        "from keras import optimizers\n",
        "from keras.preprocessing import image\n",
        "from keras.layers import Dropout, Flatten, Dense  \n",
        "from keras import applications  \n",
        "from keras.utils.np_utils import to_categorical  \n",
        "import matplotlib.pyplot as plt \n",
        "import matplotlib.image as mpimg\n",
        "%matplotlib inline\n",
        "import math  \n",
        "import datetime\n",
        "import time"
      ],
      "execution_count": 2,
      "outputs": [
        {
          "output_type": "stream",
          "text": [
            "Using TensorFlow backend.\n"
          ],
          "name": "stderr"
        }
      ]
    },
    {
      "cell_type": "code",
      "metadata": {
        "id": "o4nzmuy0WECz",
        "colab_type": "code",
        "colab": {}
      },
      "source": [
        "#Default dimensions we found online\n",
        "img_width, img_height = 224,224  \n",
        "   \n",
        "#Create a bottleneck file\n",
        "top_model_weights_path = 'bottleneck_fc_model.h5' \n",
        "\n",
        "# loading up our datasets\n",
        "train_data_dir = 'OCT/train'  \n",
        "validation_data_dir = 'OCT/val'  \n",
        "test_data_dir = 'OCT/test'\n",
        "   \n",
        "# number of epochs to train top model  \n",
        "epochs = 7 #this has been changed after multiple model run  \n",
        "# batch size used by flow_from_directory and predict_generator  \n",
        "batch_size = 50"
      ],
      "execution_count": 0,
      "outputs": []
    },
    {
      "cell_type": "code",
      "metadata": {
        "id": "8ZiK26ETWNVC",
        "colab_type": "code",
        "outputId": "1ab3a523-6f11-4772-9787-ff8bc365f3ff",
        "colab": {
          "base_uri": "https://localhost:8080/",
          "height": 245
        }
      },
      "source": [
        "vgg16 = applications.VGG16(include_top=False, weights='imagenet')"
      ],
      "execution_count": 4,
      "outputs": [
        {
          "output_type": "stream",
          "text": [
            "WARNING:tensorflow:From /usr/local/lib/python3.6/dist-packages/keras/backend/tensorflow_backend.py:66: The name tf.get_default_graph is deprecated. Please use tf.compat.v1.get_default_graph instead.\n",
            "\n",
            "WARNING:tensorflow:From /usr/local/lib/python3.6/dist-packages/keras/backend/tensorflow_backend.py:541: The name tf.placeholder is deprecated. Please use tf.compat.v1.placeholder instead.\n",
            "\n",
            "WARNING:tensorflow:From /usr/local/lib/python3.6/dist-packages/keras/backend/tensorflow_backend.py:4432: The name tf.random_uniform is deprecated. Please use tf.random.uniform instead.\n",
            "\n",
            "WARNING:tensorflow:From /usr/local/lib/python3.6/dist-packages/keras/backend/tensorflow_backend.py:4267: The name tf.nn.max_pool is deprecated. Please use tf.nn.max_pool2d instead.\n",
            "\n",
            "WARNING:tensorflow:From /usr/local/lib/python3.6/dist-packages/keras/backend/tensorflow_backend.py:190: The name tf.get_default_session is deprecated. Please use tf.compat.v1.get_default_session instead.\n",
            "\n",
            "WARNING:tensorflow:From /usr/local/lib/python3.6/dist-packages/keras/backend/tensorflow_backend.py:197: The name tf.ConfigProto is deprecated. Please use tf.compat.v1.ConfigProto instead.\n",
            "\n"
          ],
          "name": "stdout"
        }
      ]
    },
    {
      "cell_type": "code",
      "metadata": {
        "id": "dQUyb_RUWRwI",
        "colab_type": "code",
        "colab": {}
      },
      "source": [
        "datagen = ImageDataGenerator(rescale=1. / 255)"
      ],
      "execution_count": 0,
      "outputs": []
    },
    {
      "cell_type": "code",
      "metadata": {
        "id": "GmcFLl-nWbNB",
        "colab_type": "code",
        "outputId": "14f673b5-184d-4af3-8cb7-9b17ebe0cd1b",
        "colab": {
          "base_uri": "https://localhost:8080/",
          "height": 52
        }
      },
      "source": [
        "start = datetime.datetime.now()\n",
        "   \n",
        "generator = datagen.flow_from_directory(  \n",
        "     train_data_dir,  \n",
        "     target_size=(img_width, img_height),  \n",
        "     batch_size=batch_size,  \n",
        "     class_mode=None,  \n",
        "     shuffle=False)  \n",
        "   \n",
        "nb_train_samples = len(generator.filenames)  \n",
        "num_classes = len(generator.class_indices)  \n",
        "   \n",
        "predict_size_train = int(math.ceil(nb_train_samples / batch_size))  \n",
        "   \n",
        "bottleneck_features_train = vgg16.predict_generator(generator, predict_size_train)  \n",
        "   \n",
        "np.save('bottleneck_features_train.npy', bottleneck_features_train)\n",
        "end= datetime.datetime.now()\n",
        "elapsed= end-start\n",
        "print ('Time: ', elapsed)"
      ],
      "execution_count": 6,
      "outputs": [
        {
          "output_type": "stream",
          "text": [
            "Found 108277 images belonging to 4 classes.\n",
            "Time:  0:10:51.078096\n"
          ],
          "name": "stdout"
        }
      ]
    },
    {
      "cell_type": "code",
      "metadata": {
        "id": "qPZ_OCnEWheg",
        "colab_type": "code",
        "outputId": "8ccea37f-2995-4491-a175-75fefcbc4904",
        "colab": {
          "base_uri": "https://localhost:8080/",
          "height": 52
        }
      },
      "source": [
        "start = datetime.datetime.now()\n",
        "generator = datagen.flow_from_directory(  \n",
        "     validation_data_dir,  \n",
        "     target_size=(img_width, img_height),  \n",
        "     batch_size=batch_size,  \n",
        "     class_mode=None,  \n",
        "     shuffle=False)  \n",
        "   \n",
        "nb_validation_samples = len(generator.filenames)  \n",
        "   \n",
        "predict_size_validation = int(math.ceil(nb_validation_samples / batch_size))  \n",
        "   \n",
        "bottleneck_features_validation = vgg16.predict_generator(  \n",
        "     generator, predict_size_validation)  \n",
        "   \n",
        "np.save('bottleneck_features_validation.npy', bottleneck_features_validation) \n",
        "end= datetime.datetime.now()\n",
        "elapsed= end-start\n",
        "print ('Time: ', elapsed)"
      ],
      "execution_count": 7,
      "outputs": [
        {
          "output_type": "stream",
          "text": [
            "Found 32 images belonging to 4 classes.\n",
            "Time:  0:00:03.221687\n"
          ],
          "name": "stdout"
        }
      ]
    },
    {
      "cell_type": "code",
      "metadata": {
        "id": "-N3gD-UMcAS-",
        "colab_type": "code",
        "outputId": "781cfc88-a1c6-4e1c-d9cc-3b12f583a930",
        "colab": {
          "base_uri": "https://localhost:8080/",
          "height": 52
        }
      },
      "source": [
        "start = datetime.datetime.now()\n",
        "generator = datagen.flow_from_directory(  \n",
        "     test_data_dir,  \n",
        "     target_size=(img_width, img_height),  \n",
        "     batch_size=batch_size,  \n",
        "     class_mode=None,  \n",
        "     shuffle=False)  \n",
        "   \n",
        "nb_test_samples = len(generator.filenames)  \n",
        "   \n",
        "predict_size_test = int(math.ceil(nb_test_samples / batch_size))  \n",
        "   \n",
        "bottleneck_features_test = vgg16.predict_generator(  \n",
        "     generator, predict_size_test)  \n",
        "   \n",
        "np.save('bottleneck_features_test.npy', bottleneck_features_test) \n",
        "end= datetime.datetime.now()\n",
        "elapsed= end-start\n",
        "print ('Time: ', elapsed)"
      ],
      "execution_count": 8,
      "outputs": [
        {
          "output_type": "stream",
          "text": [
            "Found 1000 images belonging to 4 classes.\n",
            "Time:  0:00:05.898539\n"
          ],
          "name": "stdout"
        }
      ]
    },
    {
      "cell_type": "code",
      "metadata": {
        "id": "jbRHknP9cRkP",
        "colab_type": "code",
        "outputId": "d08c4d72-f7f3-42c3-ba52-6fc48de87902",
        "colab": {
          "base_uri": "https://localhost:8080/",
          "height": 34
        }
      },
      "source": [
        "#training data\n",
        "generator_top = datagen.flow_from_directory(  \n",
        "         train_data_dir,  \n",
        "         target_size=(img_width, img_height),  \n",
        "         batch_size=batch_size,  \n",
        "         class_mode='categorical',  \n",
        "         shuffle=False)  \n",
        "   \n",
        "nb_train_samples = len(generator_top.filenames)  \n",
        "num_classes = len(generator_top.class_indices)  \n",
        "   \n",
        "# load the bottleneck features saved earlier  \n",
        "train_data = np.load('bottleneck_features_train.npy')  \n",
        "   \n",
        "# get the class lebels for the training data, in the original order  \n",
        "train_labels = generator_top.classes  \n",
        "   \n",
        "# convert the training labels to categorical vectors  \n",
        "train_labels = to_categorical(train_labels, num_classes=num_classes) "
      ],
      "execution_count": 9,
      "outputs": [
        {
          "output_type": "stream",
          "text": [
            "Found 108277 images belonging to 4 classes.\n"
          ],
          "name": "stdout"
        }
      ]
    },
    {
      "cell_type": "code",
      "metadata": {
        "id": "XDDj-wigd_Cd",
        "colab_type": "code",
        "outputId": "88f6c0f7-5ac2-4df9-a9cb-b9a1029ae991",
        "colab": {
          "base_uri": "https://localhost:8080/",
          "height": 34
        }
      },
      "source": [
        "#validation data\n",
        "generator_top = datagen.flow_from_directory(  \n",
        "         validation_data_dir,  \n",
        "         target_size=(img_width, img_height),  \n",
        "         batch_size=batch_size,  \n",
        "         class_mode=None,  \n",
        "         shuffle=False)  \n",
        "   \n",
        "nb_validation_samples = len(generator_top.filenames)  \n",
        "   \n",
        "validation_data = np.load('bottleneck_features_validation.npy')  \n",
        "   \n",
        "\n",
        "validation_labels = generator_top.classes  \n",
        "validation_labels = to_categorical(validation_labels, num_classes=num_classes) "
      ],
      "execution_count": 10,
      "outputs": [
        {
          "output_type": "stream",
          "text": [
            "Found 32 images belonging to 4 classes.\n"
          ],
          "name": "stdout"
        }
      ]
    },
    {
      "cell_type": "code",
      "metadata": {
        "id": "nEK3Xt1geD4M",
        "colab_type": "code",
        "outputId": "39ffc098-3abb-418f-a810-17dc06cec96b",
        "colab": {
          "base_uri": "https://localhost:8080/",
          "height": 34
        }
      },
      "source": [
        "#testing data\n",
        "generator_top = datagen.flow_from_directory(  \n",
        "         test_data_dir,  \n",
        "         target_size=(img_width, img_height),  \n",
        "         batch_size=batch_size,  \n",
        "         class_mode=None,  \n",
        "         shuffle=False)  \n",
        "   \n",
        "nb_test_samples = len(generator_top.filenames)  \n",
        "   \n",
        "test_data = np.load('bottleneck_features_test.npy')  \n",
        "   \n",
        "\n",
        "test_labels = generator_top.classes  \n",
        "test_labels = to_categorical(test_labels, num_classes=num_classes)"
      ],
      "execution_count": 11,
      "outputs": [
        {
          "output_type": "stream",
          "text": [
            "Found 1000 images belonging to 4 classes.\n"
          ],
          "name": "stdout"
        }
      ]
    },
    {
      "cell_type": "code",
      "metadata": {
        "id": "fnQOai4VeG1o",
        "colab_type": "code",
        "outputId": "d5e71907-152d-4dda-b70b-c3e26983a7e2",
        "colab": {
          "base_uri": "https://localhost:8080/",
          "height": 228
        }
      },
      "source": [
        "#This is the best model we found. For additional models, check out I_notebook.ipynb\n",
        "start = datetime.datetime.now()\n",
        "model = Sequential()  \n",
        "model.add(Flatten(input_shape=train_data.shape[1:]))  \n",
        "model.add(Dense(100, activation=keras.layers.LeakyReLU(alpha=0.3)))  \n",
        "model.add(Dropout(0.5))  \n",
        "model.add(Dense(50, activation=keras.layers.LeakyReLU(alpha=0.3)))  \n",
        "model.add(Dropout(0.3)) \n",
        "model.add(Dense(num_classes, activation='softmax'))  \n",
        "\n",
        "model.compile(loss='categorical_crossentropy',\n",
        "              optimizer=optimizers.RMSprop(lr=1e-4),\n",
        "              metrics=['acc'])  \n",
        "\n",
        "history = model.fit(train_data, train_labels,  \n",
        "      epochs=2,\n",
        "      batch_size=batch_size,  \n",
        "      validation_data=(validation_data, validation_labels))  \n",
        "\n",
        "model.save_weights(top_model_weights_path)  \n",
        "\n",
        "(eval_loss, eval_accuracy) = model.evaluate(  \n",
        " validation_data, validation_labels, batch_size=batch_size, verbose=1)\n",
        "\n",
        "print(\"[INFO] accuracy: {:.2f}%\".format(eval_accuracy * 100))  \n",
        "print(\"[INFO] Loss: {}\".format(eval_loss))  \n",
        "end= datetime.datetime.now()\n",
        "elapsed= end-start\n",
        "print ('Time: ', elapsed)"
      ],
      "execution_count": 33,
      "outputs": [
        {
          "output_type": "stream",
          "text": [
            "/usr/local/lib/python3.6/dist-packages/keras/activations.py:235: UserWarning: Do not pass a layer instance (such as LeakyReLU) as the activation argument of another layer. Instead, advanced activation layers should be used just like any other layer in a model.\n",
            "  identifier=identifier.__class__.__name__))\n"
          ],
          "name": "stderr"
        },
        {
          "output_type": "stream",
          "text": [
            "Train on 108277 samples, validate on 32 samples\n",
            "Epoch 1/2\n",
            "108277/108277 [==============================] - 16s 150us/step - loss: 0.4577 - acc: 0.8435 - val_loss: 0.7944 - val_acc: 0.6250\n",
            "Epoch 2/2\n",
            "108277/108277 [==============================] - 16s 144us/step - loss: 0.3408 - acc: 0.8869 - val_loss: 0.4170 - val_acc: 0.9062\n",
            "32/32 [==============================] - 0s 123us/step\n",
            "[INFO] accuracy: 90.62%\n",
            "[INFO] Loss: 0.41698697209358215\n",
            "Time:  0:00:32.306076\n"
          ],
          "name": "stdout"
        }
      ]
    },
    {
      "cell_type": "code",
      "metadata": {
        "id": "t2d9cOKkeYQn",
        "colab_type": "code",
        "outputId": "367a8cb7-94cf-413f-dd1d-2ebe6771667e",
        "colab": {
          "base_uri": "https://localhost:8080/",
          "height": 364
        }
      },
      "source": [
        "model.summary()"
      ],
      "execution_count": 34,
      "outputs": [
        {
          "output_type": "stream",
          "text": [
            "Model: \"sequential_3\"\n",
            "_________________________________________________________________\n",
            "Layer (type)                 Output Shape              Param #   \n",
            "=================================================================\n",
            "flatten_3 (Flatten)          (None, 25088)             0         \n",
            "_________________________________________________________________\n",
            "dense_7 (Dense)              (None, 100)               2508900   \n",
            "_________________________________________________________________\n",
            "dropout_5 (Dropout)          (None, 100)               0         \n",
            "_________________________________________________________________\n",
            "dense_8 (Dense)              (None, 50)                5050      \n",
            "_________________________________________________________________\n",
            "dropout_6 (Dropout)          (None, 50)                0         \n",
            "_________________________________________________________________\n",
            "dense_9 (Dense)              (None, 4)                 204       \n",
            "=================================================================\n",
            "Total params: 2,514,154\n",
            "Trainable params: 2,514,154\n",
            "Non-trainable params: 0\n",
            "_________________________________________________________________\n"
          ],
          "name": "stdout"
        }
      ]
    },
    {
      "cell_type": "code",
      "metadata": {
        "id": "xpqGp_Kme0Wm",
        "colab_type": "code",
        "outputId": "9a3cc781-d19f-4156-fc14-41df271b6bf0",
        "colab": {
          "base_uri": "https://localhost:8080/",
          "height": 573
        }
      },
      "source": [
        "acc = history.history['acc']\n",
        "val_acc = history.history['val_acc']\n",
        "loss = history.history['loss']\n",
        "val_loss = history.history['val_loss']\n",
        "epochs = range(len(acc))\n",
        "plt.plot(epochs, acc, 'r', label='Training acc')\n",
        "plt.plot(epochs, val_acc, 'b', label='Validation acc')\n",
        "plt.title('Training and validation accuracy')\n",
        "plt.ylabel('accuracy')  \n",
        "plt.xlabel('epoch')\n",
        "plt.legend()\n",
        "plt.figure()\n",
        "plt.plot(epochs, loss, 'r', label='Training loss')\n",
        "plt.plot(epochs, val_loss, 'b', label='Validation loss')\n",
        "plt.title('Training and validation loss')\n",
        "plt.ylabel('loss')  \n",
        "plt.xlabel('epoch')\n",
        "plt.legend()\n",
        "plt.show()"
      ],
      "execution_count": 35,
      "outputs": [
        {
          "output_type": "display_data",
          "data": {
            "image/png": "[encoded data removed]",
            "text/plain": [
              "<Figure size 432x288 with 1 Axes>"
            ]
          },
          "metadata": {
            "tags": []
          }
        },
        {
          "output_type": "display_data",
          "data": {
            "image/png": "[encoded data removed]",
            "text/plain": [
              "<Figure size 432x288 with 1 Axes>"
            ]
          },
          "metadata": {
            "tags": []
          }
        }
      ]
    },
    {
      "cell_type": "code",
      "metadata": {
        "id": "4gxieGbre8vC",
        "colab_type": "code",
        "outputId": "a8a88727-8da5-4dbf-9b5c-9f83e4b6666b",
        "colab": {
          "base_uri": "https://localhost:8080/",
          "height": 52
        }
      },
      "source": [
        "model.evaluate(test_data, test_labels)"
      ],
      "execution_count": 36,
      "outputs": [
        {
          "output_type": "stream",
          "text": [
            "1000/1000 [==============================] - 0s 110us/step\n"
          ],
          "name": "stdout"
        },
        {
          "output_type": "execute_result",
          "data": {
            "text/plain": [
              "[0.3339942601174116, 0.862]"
            ]
          },
          "metadata": {
            "tags": []
          },
          "execution_count": 36
        }
      ]
    },
    {
      "cell_type": "code",
      "metadata": {
        "id": "aZMICu2lfGFS",
        "colab_type": "code",
        "colab": {}
      },
      "source": [
        "def read_image(file_path):\n",
        "    print(\"[INFO] loading and preprocessing image...\")  \n",
        "    image = load_img(file_path, target_size=(224, 224))  \n",
        "    image = img_to_array(image)  \n",
        "    image = np.expand_dims(image, axis=0)\n",
        "    image /= 255.  \n",
        "    return image"
      ],
      "execution_count": 0,
      "outputs": []
    },
    {
      "cell_type": "code",
      "metadata": {
        "id": "lNQA3VvjfVc5",
        "colab_type": "code",
        "colab": {}
      },
      "source": [
        "def test_single_image(path):\n",
        "    clas = ['CNV', 'DME', 'DRUSEN', 'NORMAL']\n",
        "    images = read_image(path)\n",
        "    time.sleep(.5)\n",
        "    bt_prediction = vgg16.predict(images)  \n",
        "    preds = model.predict_proba(bt_prediction)\n",
        "    for idx, clas, x in zip(range(0,4), clas , preds[0]):\n",
        "        print(\"ID: {}, Label: {} {}%\".format(idx, clas, round(x*100,2) ))\n",
        "    print('Final Decision:')\n",
        "    time.sleep(.5)\n",
        "    for x in range(3):\n",
        "        print('.'*(x+1))\n",
        "        time.sleep(.2)\n",
        "    class_predicted = model.predict_classes(bt_prediction)\n",
        "    class_dictionary = generator_top.class_indices  \n",
        "    inv_map = {v: k for k, v in class_dictionary.items()}  \n",
        "    print(\"ID: {}, Label: {}\".format(class_predicted[0], inv_map[class_predicted[0]]))  \n",
        "    return load_img(path)"
      ],
      "execution_count": 0,
      "outputs": []
    },
    {
      "cell_type": "code",
      "metadata": {
        "id": "O8bTtnGyfYpP",
        "colab_type": "code",
        "outputId": "66636df3-f6fb-4486-fc5e-1d58710c4248",
        "colab": {
          "base_uri": "https://localhost:8080/",
          "height": 34
        }
      },
      "source": [
        "!ls OCT/val"
      ],
      "execution_count": 27,
      "outputs": [
        {
          "output_type": "stream",
          "text": [
            "CNV  DME  DRUSEN  NORMAL\n"
          ],
          "name": "stdout"
        }
      ]
    },
    {
      "cell_type": "code",
      "metadata": {
        "id": "KdncIrmBf745",
        "colab_type": "code",
        "outputId": "af623609-e419-480d-b3c3-f3c3f70e1c65",
        "colab": {
          "base_uri": "https://localhost:8080/",
          "height": 1000
        }
      },
      "source": [
        "!ls OCT/test/NORMAL"
      ],
      "execution_count": 44,
      "outputs": [
        {
          "output_type": "stream",
          "text": [
            "NORMAL-100980-1.jpeg   NORMAL-3150544-1.jpeg  NORMAL-7057023-2.jpeg\n",
            "NORMAL-100980-2.jpeg   NORMAL-3150544-2.jpeg  NORMAL-7057023-3.jpeg\n",
            "NORMAL-107349-1.jpeg   NORMAL-3150544-3.jpeg  NORMAL-7057023-4.jpeg\n",
            "NORMAL-1256555-1.jpeg  NORMAL-3150544-4.jpeg  NORMAL-7057023-5.jpeg\n",
            "NORMAL-1256555-2.jpeg  NORMAL-3150544-5.jpeg  NORMAL-7057023-6.jpeg\n",
            "NORMAL-1256555-3.jpeg  NORMAL-32711-1.jpeg    NORMAL-7084900-1.jpeg\n",
            "NORMAL-13031-1.jpeg    NORMAL-36988-1.jpeg    NORMAL-7084900-2.jpeg\n",
            "NORMAL-13031-2.jpeg    NORMAL-3871-1.jpeg     NORMAL-7246911-1.jpeg\n",
            "NORMAL-13290-1.jpeg    NORMAL-397861-1.jpeg   NORMAL-7249847-1.jpeg\n",
            "NORMAL-1553966-1.jpeg  NORMAL-420724-1.jpeg   NORMAL-7362757-1.jpeg\n",
            "NORMAL-1560929-1.jpeg  NORMAL-4260811-1.jpeg  NORMAL-7366040-1.jpeg\n",
            "NORMAL-1567257-1.jpeg  NORMAL-4260811-2.jpeg  NORMAL-7366040-2.jpeg\n",
            "NORMAL-1569-1.jpeg     NORMAL-4265297-1.jpeg  NORMAL-7366040-3.jpeg\n",
            "NORMAL-1569-2.jpeg     NORMAL-4280024-1.jpeg  NORMAL-7379336-1.jpeg\n",
            "NORMAL-1574799-1.jpeg  NORMAL-4363964-1.jpeg  NORMAL-7379336-2.jpeg\n",
            "NORMAL-157635-1.jpeg   NORMAL-4376025-1.jpeg  NORMAL-7388507-1.jpeg\n",
            "NORMAL-1607883-1.jpeg  NORMAL-4376025-2.jpeg  NORMAL-7405074-1.jpeg\n",
            "NORMAL-1625211-1.jpeg  NORMAL-4376025-3.jpeg  NORMAL-7405074-2.jpeg\n",
            "NORMAL-1707146-1.jpeg  NORMAL-4380208-1.jpeg  NORMAL-7405074-3.jpeg\n",
            "NORMAL-18365-1.jpeg    NORMAL-4480087-1.jpeg  NORMAL-7459260-1.jpeg\n",
            "NORMAL-1839546-1.jpeg  NORMAL-4480087-2.jpeg  NORMAL-7489492-1.jpeg\n",
            "NORMAL-1839546-2.jpeg  NORMAL-4480087-3.jpeg  NORMAL-75834-1.jpeg\n",
            "NORMAL-1839847-1.jpeg  NORMAL-46150-1.jpeg    NORMAL-75834-2.jpeg\n",
            "NORMAL-1844016-1.jpeg  NORMAL-46187-1.jpeg    NORMAL-75834-3.jpeg\n",
            "NORMAL-1844016-2.jpeg  NORMAL-46393-1.jpeg    NORMAL-75834-4.jpeg\n",
            "NORMAL-1844016-3.jpeg  NORMAL-4680138-1.jpeg  NORMAL-75834-5.jpeg\n",
            "NORMAL-1850889-1.jpeg  NORMAL-4680138-2.jpeg  NORMAL-75834-6.jpeg\n",
            "NORMAL-1860988-1.jpeg  NORMAL-472313-1.jpeg   NORMAL-7616770-1.jpeg\n",
            "NORMAL-1860988-2.jpeg  NORMAL-472313-2.jpeg   NORMAL-7700726-1.jpeg\n",
            "NORMAL-1868593-1.jpeg  NORMAL-4756509-1.jpeg  NORMAL-7708488-1.jpeg\n",
            "NORMAL-1868593-2.jpeg  NORMAL-4760088-1.jpeg  NORMAL-7721435-1.jpeg\n",
            "NORMAL-1868593-3.jpeg  NORMAL-4760410-1.jpeg  NORMAL-7731079-1.jpeg\n",
            "NORMAL-19473-1.jpeg    NORMAL-47667-1.jpeg    NORMAL-7737658-1.jpeg\n",
            "NORMAL-1985956-1.jpeg  NORMAL-48457-1.jpeg    NORMAL-7744373-1.jpeg\n",
            "NORMAL-1987292-1.jpeg  NORMAL-4851546-1.jpeg  NORMAL-7765603-1.jpeg\n",
            "NORMAL-1990042-1.jpeg  NORMAL-49105-1.jpeg    NORMAL-7791908-1.jpeg\n",
            "NORMAL-1993564-1.jpeg  NORMAL-495738-1.jpeg   NORMAL-7806043-1.jpeg\n",
            "NORMAL-20141-1.jpeg    NORMAL-4981311-1.jpeg  NORMAL-7834768-1.jpeg\n",
            "NORMAL-2172702-1.jpeg  NORMAL-4981311-2.jpeg  NORMAL-7843895-1.jpeg\n",
            "NORMAL-2176791-1.jpeg  NORMAL-4984966-1.jpeg  NORMAL-7843895-2.jpeg\n",
            "NORMAL-2195284-1.jpeg  NORMAL-4985689-1.jpeg  NORMAL-7843895-3.jpeg\n",
            "NORMAL-2227707-1.jpeg  NORMAL-4991882-1.jpeg  NORMAL-7845876-1.jpeg\n",
            "NORMAL-2257322-1.jpeg  NORMAL-4998627-1.jpeg  NORMAL-78683-1.jpeg\n",
            "NORMAL-2337204-1.jpeg  NORMAL-5003292-1.jpeg  NORMAL-7892291-1.jpeg\n",
            "NORMAL-238945-1.jpeg   NORMAL-5003292-2.jpeg  NORMAL-7892291-2.jpeg\n",
            "NORMAL-2405707-1.jpeg  NORMAL-5034776-1.jpeg  NORMAL-7892291-3.jpeg\n",
            "NORMAL-2492693-1.jpeg  NORMAL-5075336-1.jpeg  NORMAL-7892291-4.jpeg\n",
            "NORMAL-2503367-1.jpeg  NORMAL-5083756-1.jpeg  NORMAL-7894097-1.jpeg\n",
            "NORMAL-2517469-1.jpeg  NORMAL-5279003-1.jpeg  NORMAL-7894097-2.jpeg\n",
            "NORMAL-2517469-2.jpeg  NORMAL-5348228-1.jpeg  NORMAL-7920519-1.jpeg\n",
            "NORMAL-2518378-1.jpeg  NORMAL-5359096-1.jpeg  NORMAL-7920519-2.jpeg\n",
            "NORMAL-2527724-1.jpeg  NORMAL-5364897-1.jpeg  NORMAL-7920519-3.jpeg\n",
            "NORMAL-2529919-1.jpeg  NORMAL-5367011-1.jpeg  NORMAL-7937893-1.jpeg\n",
            "NORMAL-2529919-2.jpeg  NORMAL-53995-1.jpeg    NORMAL-7956177-1.jpeg\n",
            "NORMAL-2529919-4.jpeg  NORMAL-5447393-1.jpeg  NORMAL-7956177-2.jpeg\n",
            "NORMAL-2547151-1.jpeg  NORMAL-5466413-1.jpeg  NORMAL-8009092-1.jpeg\n",
            "NORMAL-2622588-1.jpeg  NORMAL-5537195-1.jpeg  NORMAL-8011538-1.jpeg\n",
            "NORMAL-2640457-1.jpeg  NORMAL-5537195-2.jpeg  NORMAL-8122215-1.jpeg\n",
            "NORMAL-2640457-2.jpeg  NORMAL-5537195-3.jpeg  NORMAL-8122215-2.jpeg\n",
            "NORMAL-2642300-1.jpeg  NORMAL-55652-1.jpeg    NORMAL-8134883-1.jpeg\n",
            "NORMAL-2647147-1.jpeg  NORMAL-5586445-1.jpeg  NORMAL-8218814-1.jpeg\n",
            "NORMAL-2769620-1.jpeg  NORMAL-60827-1.jpeg    NORMAL-8218814-2.jpeg\n",
            "NORMAL-2769620-2.jpeg  NORMAL-64262-1.jpeg    NORMAL-8218814-3.jpeg\n",
            "NORMAL-2777942-1.jpeg  NORMAL-643307-1.jpeg   NORMAL-8218814-4.jpeg\n",
            "NORMAL-2786036-1.jpeg  NORMAL-6435945-1.jpeg  NORMAL-8218814-5.jpeg\n",
            "NORMAL-2789908-1.jpeg  NORMAL-6551103-1.jpeg  NORMAL-8218814-6.jpeg\n",
            "NORMAL-2814646-1.jpeg  NORMAL-6551103-2.jpeg  NORMAL-8287144-1.jpeg\n",
            "NORMAL-2814646-2.jpeg  NORMAL-65744-1.jpeg    NORMAL-8314525-1.jpeg\n",
            "NORMAL-2815901-1.jpeg  NORMAL-6661431-1.jpeg  NORMAL-8318461-1.jpeg\n",
            "NORMAL-2819870-1.jpeg  NORMAL-6969-1.jpeg     NORMAL-8612317-1.jpeg\n",
            "NORMAL-2834976-1.jpeg  NORMAL-6969-2.jpeg     NORMAL-8614915-1.jpeg\n",
            "NORMAL-2842658-1.jpeg  NORMAL-7022739-1.jpeg  NORMAL-8649218-1.jpeg\n",
            "NORMAL-2842991-1.jpeg  NORMAL-7023622-1.jpeg  NORMAL-8750828-1.jpeg\n",
            "NORMAL-2892455-1.jpeg  NORMAL-7023622-2.jpeg  NORMAL-8774641-1.jpeg\n",
            "NORMAL-2897385-1.jpeg  NORMAL-7033499-1.jpeg  NORMAL-8884516-1.jpeg\n",
            "NORMAL-2897385-2.jpeg  NORMAL-7033499-2.jpeg  NORMAL-8920214-1.jpeg\n",
            "NORMAL-3053221-1.jpeg  NORMAL-7033499-3.jpeg  NORMAL-8920214-2.jpeg\n",
            "NORMAL-3059495-1.jpeg  NORMAL-7033499-4.jpeg  NORMAL-8920214-3.jpeg\n",
            "NORMAL-3059495-2.jpeg  NORMAL-7040634-1.jpeg  NORMAL-9044287-1.jpeg\n",
            "NORMAL-3063933-1.jpeg  NORMAL-7040634-2.jpeg  NORMAL-9044287-2.jpeg\n",
            "NORMAL-3063933-2.jpeg  NORMAL-7040634-3.jpeg  NORMAL-92449-1.jpeg\n",
            "NORMAL-3068439-1.jpeg  NORMAL-7041893-1.jpeg  NORMAL-94019-1.jpeg\n",
            "NORMAL-3068439-2.jpeg  NORMAL-7041893-2.jpeg\n",
            "NORMAL-309669-1.jpeg   NORMAL-7057023-1.jpeg\n"
          ],
          "name": "stdout"
        }
      ]
    },
    {
      "cell_type": "code",
      "metadata": {
        "id": "C9b3-jrKf_iU",
        "colab_type": "code",
        "colab": {}
      },
      "source": [
        "path = \"OCT/test/NORMAL/NORMAL-7057023-1.jpeg\""
      ],
      "execution_count": 0,
      "outputs": []
    },
    {
      "cell_type": "code",
      "metadata": {
        "id": "xP9QMhIQgsDG",
        "colab_type": "code",
        "outputId": "206387a5-7eb6-45f4-8260-41a64402357c",
        "colab": {
          "base_uri": "https://localhost:8080/",
          "height": 415
        }
      },
      "source": [
        "test_single_image(path)"
      ],
      "execution_count": 46,
      "outputs": [
        {
          "output_type": "stream",
          "text": [
            "[INFO] loading and preprocessing image...\n",
            "ID: 0, Label: CNV 2.14%\n",
            "ID: 1, Label: DME 0.46%\n",
            "ID: 2, Label: DRUSEN 3.21%\n",
            "ID: 3, Label: NORMAL 94.19%\n",
            "Final Decision:\n",
            ".\n",
            "..\n",
            "...\n",
            "ID: 3, Label: NORMAL\n"
          ],
          "name": "stdout"
        },
        {
          "output_type": "execute_result",
          "data": {
            "image/png": "[encoded data removed]",
            "text/plain": [
              "<PIL.Image.Image image mode=RGB size=224x224 at 0x7F1A1F392748>"
            ]
          },
          "metadata": {
            "tags": []
          },
          "execution_count": 46
        }
      ]
    },
    {
      "cell_type": "code",
      "metadata": {
        "id": "scCL0T6ugwg2",
        "colab_type": "code",
        "colab": {}
      },
      "source": [
        ""
      ],
      "execution_count": 0,
      "outputs": []
    }
  ]
}